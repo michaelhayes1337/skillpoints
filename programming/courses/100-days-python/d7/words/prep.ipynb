{
 "cells": [
  {
   "cell_type": "code",
   "execution_count": null,
   "metadata": {},
   "outputs": [],
   "source": [
    "import pandas as pd\n",
    "\n",
    "filename = 'dictionary.csv'\n",
    "\n",
    "df = pd.read_csv(filename)\n",
    "df"
   ]
  },
  {
   "cell_type": "code",
   "execution_count": null,
   "metadata": {},
   "outputs": [],
   "source": [
    "dictionary = {}\n",
    "def border_patrol(word):\n",
    "    for character in word:\n",
    "        if ord(character) < ord('A') or ord(character) > ord('z'):\n",
    "            return False\n",
    "    return True\n",
    "\n",
    "for index, row in df.iterrows():\n",
    "    should_add = border_patrol(row[\"word\"])\n",
    "    if should_add:\n",
    "        if row[\"word\"] in dictionary:\n",
    "            dictionary[row[\"word\"]].append(row[\"def\"])\n",
    "        else:\n",
    "            dictionary[row[\"word\"]] = [row[\"def\"]]"
   ]
  },
  {
   "cell_type": "code",
   "execution_count": null,
   "metadata": {},
   "outputs": [],
   "source": []
  }
 ],
 "metadata": {
  "kernelspec": {
   "display_name": "Python 3",
   "language": "python",
   "name": "python3"
  },
  "language_info": {
   "codemirror_mode": {
    "name": "ipython",
    "version": 3
   },
   "file_extension": ".py",
   "mimetype": "text/x-python",
   "name": "python",
   "nbconvert_exporter": "python",
   "pygments_lexer": "ipython3",
   "version": "3.7.9"
  }
 },
 "nbformat": 4,
 "nbformat_minor": 2
}
